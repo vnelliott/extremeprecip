{
 "cells": [
  {
   "cell_type": "code",
   "execution_count": 1,
   "id": "36b41534",
   "metadata": {},
   "outputs": [],
   "source": [
    "import pandas as pd"
   ]
  },
  {
   "cell_type": "code",
   "execution_count": null,
   "id": "c2886171",
   "metadata": {},
   "outputs": [],
   "source": [
    "#this was just me checking to see what i had access to, feel free to ignore\n",
    "import os\n",
    "\n",
    "filepath = \"S:/BigPrecip/Precip/FORTS/SRCC_FORTS_DATA/La_Fort_Jessup.data\"\n",
    "\n",
    "if os.access(filepath, os.R_OK):\n",
    "    print(\"Read access granted.\")\n",
    "else:\n",
    "    print(\"Read access denied.\")\n"
   ]
  },
  {
   "cell_type": "code",
   "execution_count": null,
   "id": "138a44dc",
   "metadata": {},
   "outputs": [],
   "source": [
    "#this is for a more permanent file path\n",
    "filepath = \"S:/BigPrecip/Precip/FORTS/SRCC_FORTS_DATA/La_Fort_Jessup.data\" #FILE LOCATION\n",
    "df = pd.read_csv(filepath)"
   ]
  },
  {
   "cell_type": "code",
   "execution_count": 2,
   "id": "0827408e",
   "metadata": {},
   "outputs": [],
   "source": [
    "filepath = \"OK_Fort_Sill.data.csv\" #FILE LOCATION\n",
    "df = pd.read_csv(filepath)"
   ]
  },
  {
   "cell_type": "code",
   "execution_count": 3,
   "id": "0075a6f8",
   "metadata": {},
   "outputs": [],
   "source": [
    "columns_to_keep = ['STNO', 'LAT', 'LON', 'YEAR', 'MO', 'DAY', 'PRCP-99'] #LIST OF COLULM HEADERS THAT ARE NEEDED\n",
    "df = df.loc[:, columns_to_keep] #GETS RID OF UNECESSARY COLUMNS"
   ]
  },
  {
   "cell_type": "code",
   "execution_count": 4,
   "id": "e2854e37",
   "metadata": {},
   "outputs": [],
   "source": [
    "df.columns=['STATION_ID','LAT','LON','YEAR','MO','DAY','PRECIP']"
   ]
  },
  {
   "cell_type": "code",
   "execution_count": 5,
   "id": "f11284ae",
   "metadata": {},
   "outputs": [],
   "source": [
    "df.insert(df.columns.get_loc('DAY') + 1, 'TIME', '')\n",
    "df.insert(df.columns.get_loc('STATION_ID') + 1, 'NAME', '')\n",
    "df.insert(df.columns.get_loc('LON') + 1, 'ELEV', '')"
   ]
  },
  {
   "cell_type": "code",
   "execution_count": 6,
   "id": "f057da67",
   "metadata": {},
   "outputs": [],
   "source": [
    "df[\"DATE\"] = pd.to_datetime(df[\"YEAR\"].astype(str) + \"/\" + df[\"MO\"].astype(str) + \"/\" + df[\"DAY\"].astype(str))\n",
    "df = df.reindex(columns=['STATION_ID', 'NAME', 'DATE', 'TIME', 'LAT', 'LON', 'ELEV', 'PRECIP'])"
   ]
  },
  {
   "cell_type": "code",
   "execution_count": 9,
   "id": "c174603f",
   "metadata": {},
   "outputs": [],
   "source": [
    "#saving the file\n",
    "df.to_csv(r'C:\\Pretty Precip Data\\OK_Fort_Sill.csv')"
   ]
  },
  {
   "cell_type": "code",
   "execution_count": 8,
   "id": "c0b530f3",
   "metadata": {},
   "outputs": [
    {
     "data": {
      "text/html": [
       "<div>\n",
       "<style scoped>\n",
       "    .dataframe tbody tr th:only-of-type {\n",
       "        vertical-align: middle;\n",
       "    }\n",
       "\n",
       "    .dataframe tbody tr th {\n",
       "        vertical-align: top;\n",
       "    }\n",
       "\n",
       "    .dataframe thead th {\n",
       "        text-align: right;\n",
       "    }\n",
       "</style>\n",
       "<table border=\"1\" class=\"dataframe\">\n",
       "  <thead>\n",
       "    <tr style=\"text-align: right;\">\n",
       "      <th></th>\n",
       "      <th>STATION_ID</th>\n",
       "      <th>NAME</th>\n",
       "      <th>DATE</th>\n",
       "      <th>TIME</th>\n",
       "      <th>LAT</th>\n",
       "      <th>LON</th>\n",
       "      <th>ELEV</th>\n",
       "      <th>PRECIP</th>\n",
       "    </tr>\n",
       "  </thead>\n",
       "  <tbody>\n",
       "    <tr>\n",
       "      <th>0</th>\n",
       "      <td>343300</td>\n",
       "      <td></td>\n",
       "      <td>1870-04-01</td>\n",
       "      <td></td>\n",
       "      <td>34.67083</td>\n",
       "      <td>98.38694</td>\n",
       "      <td></td>\n",
       "      <td>0.0</td>\n",
       "    </tr>\n",
       "    <tr>\n",
       "      <th>1</th>\n",
       "      <td>343300</td>\n",
       "      <td></td>\n",
       "      <td>1870-04-02</td>\n",
       "      <td></td>\n",
       "      <td>34.67083</td>\n",
       "      <td>98.38694</td>\n",
       "      <td></td>\n",
       "      <td>0.0</td>\n",
       "    </tr>\n",
       "    <tr>\n",
       "      <th>2</th>\n",
       "      <td>343300</td>\n",
       "      <td></td>\n",
       "      <td>1870-04-03</td>\n",
       "      <td></td>\n",
       "      <td>34.67083</td>\n",
       "      <td>98.38694</td>\n",
       "      <td></td>\n",
       "      <td>0.0</td>\n",
       "    </tr>\n",
       "    <tr>\n",
       "      <th>3</th>\n",
       "      <td>343300</td>\n",
       "      <td></td>\n",
       "      <td>1870-04-04</td>\n",
       "      <td></td>\n",
       "      <td>34.67083</td>\n",
       "      <td>98.38694</td>\n",
       "      <td></td>\n",
       "      <td>0.0</td>\n",
       "    </tr>\n",
       "    <tr>\n",
       "      <th>4</th>\n",
       "      <td>343300</td>\n",
       "      <td></td>\n",
       "      <td>1870-04-05</td>\n",
       "      <td></td>\n",
       "      <td>34.67083</td>\n",
       "      <td>98.38694</td>\n",
       "      <td></td>\n",
       "      <td>0.0</td>\n",
       "    </tr>\n",
       "    <tr>\n",
       "      <th>...</th>\n",
       "      <td>...</td>\n",
       "      <td>...</td>\n",
       "      <td>...</td>\n",
       "      <td>...</td>\n",
       "      <td>...</td>\n",
       "      <td>...</td>\n",
       "      <td>...</td>\n",
       "      <td>...</td>\n",
       "    </tr>\n",
       "    <tr>\n",
       "      <th>8306</th>\n",
       "      <td>343300</td>\n",
       "      <td></td>\n",
       "      <td>1892-12-27</td>\n",
       "      <td></td>\n",
       "      <td>34.67083</td>\n",
       "      <td>98.38694</td>\n",
       "      <td></td>\n",
       "      <td>NaN</td>\n",
       "    </tr>\n",
       "    <tr>\n",
       "      <th>8307</th>\n",
       "      <td>343300</td>\n",
       "      <td></td>\n",
       "      <td>1892-12-28</td>\n",
       "      <td></td>\n",
       "      <td>34.67083</td>\n",
       "      <td>98.38694</td>\n",
       "      <td></td>\n",
       "      <td>NaN</td>\n",
       "    </tr>\n",
       "    <tr>\n",
       "      <th>8308</th>\n",
       "      <td>343300</td>\n",
       "      <td></td>\n",
       "      <td>1892-12-29</td>\n",
       "      <td></td>\n",
       "      <td>34.67083</td>\n",
       "      <td>98.38694</td>\n",
       "      <td></td>\n",
       "      <td>NaN</td>\n",
       "    </tr>\n",
       "    <tr>\n",
       "      <th>8309</th>\n",
       "      <td>343300</td>\n",
       "      <td></td>\n",
       "      <td>1892-12-30</td>\n",
       "      <td></td>\n",
       "      <td>34.67083</td>\n",
       "      <td>98.38694</td>\n",
       "      <td></td>\n",
       "      <td>NaN</td>\n",
       "    </tr>\n",
       "    <tr>\n",
       "      <th>8310</th>\n",
       "      <td>343300</td>\n",
       "      <td></td>\n",
       "      <td>1892-12-31</td>\n",
       "      <td></td>\n",
       "      <td>34.67083</td>\n",
       "      <td>98.38694</td>\n",
       "      <td></td>\n",
       "      <td>NaN</td>\n",
       "    </tr>\n",
       "  </tbody>\n",
       "</table>\n",
       "<p>8311 rows × 8 columns</p>\n",
       "</div>"
      ],
      "text/plain": [
       "      STATION_ID NAME       DATE TIME       LAT       LON ELEV  PRECIP\n",
       "0         343300      1870-04-01       34.67083  98.38694          0.0\n",
       "1         343300      1870-04-02       34.67083  98.38694          0.0\n",
       "2         343300      1870-04-03       34.67083  98.38694          0.0\n",
       "3         343300      1870-04-04       34.67083  98.38694          0.0\n",
       "4         343300      1870-04-05       34.67083  98.38694          0.0\n",
       "...          ...  ...        ...  ...       ...       ...  ...     ...\n",
       "8306      343300      1892-12-27       34.67083  98.38694          NaN\n",
       "8307      343300      1892-12-28       34.67083  98.38694          NaN\n",
       "8308      343300      1892-12-29       34.67083  98.38694          NaN\n",
       "8309      343300      1892-12-30       34.67083  98.38694          NaN\n",
       "8310      343300      1892-12-31       34.67083  98.38694          NaN\n",
       "\n",
       "[8311 rows x 8 columns]"
      ]
     },
     "execution_count": 8,
     "metadata": {},
     "output_type": "execute_result"
    }
   ],
   "source": [
    "df"
   ]
  },
  {
   "cell_type": "code",
   "execution_count": null,
   "id": "f6e02f68",
   "metadata": {},
   "outputs": [],
   "source": []
  }
 ],
 "metadata": {
  "kernelspec": {
   "display_name": "Python 3 (ipykernel)",
   "language": "python",
   "name": "python3"
  },
  "language_info": {
   "codemirror_mode": {
    "name": "ipython",
    "version": 3
   },
   "file_extension": ".py",
   "mimetype": "text/x-python",
   "name": "python",
   "nbconvert_exporter": "python",
   "pygments_lexer": "ipython3",
   "version": "3.10.9"
  }
 },
 "nbformat": 4,
 "nbformat_minor": 5
}
